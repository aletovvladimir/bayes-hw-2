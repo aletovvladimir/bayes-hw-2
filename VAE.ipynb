{
 "cells": [
  {
   "cell_type": "code",
   "execution_count": 1,
   "metadata": {},
   "outputs": [],
   "source": [
    "import os\n",
    "os.environ['CUDA_VISIBLE_DEVICES'] = '2'\n",
    "\n",
    "import torch\n",
    "import torch.nn as nn\n",
    "import torch.optim as optim\n",
    "from torch.utils.data import DataLoader\n",
    "from torchvision import datasets, transforms\n",
    "import matplotlib.pyplot as plt\n",
    "import numpy as np\n"
   ]
  },
  {
   "cell_type": "code",
   "execution_count": 2,
   "metadata": {},
   "outputs": [],
   "source": [
    "transform = transforms.ToTensor()\n",
    "train_dataset = datasets.MNIST(root='./data', train=True, transform=transform, download=True)\n",
    "train_loader = DataLoader(train_dataset, batch_size=128, shuffle=True)"
   ]
  },
  {
   "cell_type": "code",
   "execution_count": 3,
   "metadata": {},
   "outputs": [],
   "source": [
    "class VAE(nn.Module):\n",
    "    def __init__(self, latent_dim=2):\n",
    "        super(VAE, self).__init__()\n",
    "        self.fc1 = nn.Linear(784, 300)\n",
    "        self.fc21 = nn.Linear(300, latent_dim)  \n",
    "        self.fc22 = nn.Linear(300, latent_dim)  \n",
    "        self.fc3 = nn.Linear(latent_dim, 300)\n",
    "        self.fc4 = nn.Linear(300, 784)\n",
    "\n",
    "    def encode(self, x):\n",
    "        h1 = torch.relu(self.fc1(x))\n",
    "        return self.fc21(h1), self.fc22(h1)\n",
    "\n",
    "    def reparameterize(self, mu, logvar):\n",
    "        std = torch.exp(0.5 * logvar)\n",
    "        eps = torch.randn_like(std)\n",
    "        return mu + eps * std\n",
    "\n",
    "    def decode(self, z):\n",
    "        h3 = torch.relu(self.fc3(z))\n",
    "        return torch.sigmoid(self.fc4(h3))\n",
    "\n",
    "    def forward(self, x):\n",
    "        mu, logvar = self.encode(x.view(-1, 784))\n",
    "        z = self.reparameterize(mu, logvar)\n",
    "        return self.decode(z), mu, logvar\n"
   ]
  },
  {
   "cell_type": "code",
   "execution_count": 9,
   "metadata": {},
   "outputs": [],
   "source": [
    "def loss_function(recon_x, x, mu, logvar):\n",
    "    BCE = nn.functional.binary_cross_entropy(recon_x, x.view(-1, 784), reduction='sum')\n",
    "    KLD = -0.5 * torch.sum(1 + logvar - mu.pow(2) - logvar.exp())\n",
    "    return BCE + KLD\n",
    "\n",
    "vae = VAE().to('cuda')\n",
    "optimizer = optim.Adam(vae.parameters(), lr=1e-4)\n"
   ]
  },
  {
   "cell_type": "code",
   "execution_count": 10,
   "metadata": {},
   "outputs": [
    {
     "name": "stdout",
     "output_type": "stream",
     "text": [
      "Epoch 1, Loss: 261.7154518229167\n",
      "Epoch 2, Loss: 200.56286546223959\n",
      "Epoch 3, Loss: 191.02316223958334\n",
      "Epoch 4, Loss: 185.55962376302082\n",
      "Epoch 5, Loss: 181.57366956380207\n",
      "Epoch 6, Loss: 178.41760100911458\n",
      "Epoch 7, Loss: 175.83320162760415\n",
      "Epoch 8, Loss: 173.68833069661457\n",
      "Epoch 9, Loss: 171.93781180013022\n",
      "Epoch 10, Loss: 170.38214788411457\n",
      "Epoch 11, Loss: 169.07230193684896\n",
      "Epoch 12, Loss: 167.98491735026042\n",
      "Epoch 13, Loss: 167.02969982096354\n",
      "Epoch 14, Loss: 166.27796645507811\n",
      "Epoch 15, Loss: 165.67340708007814\n",
      "Epoch 16, Loss: 165.08193400065105\n",
      "Epoch 17, Loss: 164.6058207845052\n",
      "Epoch 18, Loss: 164.19820325520834\n",
      "Epoch 19, Loss: 163.7584054361979\n",
      "Epoch 20, Loss: 163.4445908528646\n",
      "Epoch 21, Loss: 163.07995081380207\n",
      "Epoch 22, Loss: 162.76523649088543\n",
      "Epoch 23, Loss: 162.47018813476564\n",
      "Epoch 24, Loss: 162.17346106770833\n",
      "Epoch 25, Loss: 161.8565462076823\n",
      "Epoch 26, Loss: 161.61029357096353\n",
      "Epoch 27, Loss: 161.30930208333334\n",
      "Epoch 28, Loss: 161.0482694824219\n",
      "Epoch 29, Loss: 160.8010454264323\n",
      "Epoch 30, Loss: 160.53457221679687\n",
      "Epoch 31, Loss: 160.29525115559895\n",
      "Epoch 32, Loss: 160.0728291015625\n",
      "Epoch 33, Loss: 159.8696530436198\n",
      "Epoch 34, Loss: 159.62840297851562\n",
      "Epoch 35, Loss: 159.43501678059897\n",
      "Epoch 36, Loss: 159.25044733072917\n",
      "Epoch 37, Loss: 159.03431497395835\n",
      "Epoch 38, Loss: 158.8303098470052\n",
      "Epoch 39, Loss: 158.6945195638021\n",
      "Epoch 40, Loss: 158.49136487630207\n",
      "Epoch 41, Loss: 158.339979296875\n",
      "Epoch 42, Loss: 158.18111163736978\n",
      "Epoch 43, Loss: 158.00419506835937\n",
      "Epoch 44, Loss: 157.8757087076823\n",
      "Epoch 45, Loss: 157.72371321614582\n",
      "Epoch 46, Loss: 157.5795565266927\n",
      "Epoch 47, Loss: 157.43250250651042\n",
      "Epoch 48, Loss: 157.28605265299478\n",
      "Epoch 49, Loss: 157.17739853515624\n",
      "Epoch 50, Loss: 157.0666631673177\n",
      "Epoch 51, Loss: 156.92557998046874\n",
      "Epoch 52, Loss: 156.8070851888021\n",
      "Epoch 53, Loss: 156.70092268880208\n",
      "Epoch 54, Loss: 156.6038068359375\n",
      "Epoch 55, Loss: 156.44694602864584\n",
      "Epoch 56, Loss: 156.3629135904948\n",
      "Epoch 57, Loss: 156.26894278971355\n",
      "Epoch 58, Loss: 156.16200048828125\n",
      "Epoch 59, Loss: 156.05345659179687\n",
      "Epoch 60, Loss: 155.9523578125\n",
      "Epoch 61, Loss: 155.87813678385416\n",
      "Epoch 62, Loss: 155.76334427083333\n",
      "Epoch 63, Loss: 155.67238518880208\n",
      "Epoch 64, Loss: 155.5795406575521\n",
      "Epoch 65, Loss: 155.48825413411458\n",
      "Epoch 66, Loss: 155.3718739908854\n",
      "Epoch 67, Loss: 155.31652975260417\n",
      "Epoch 68, Loss: 155.2340743001302\n",
      "Epoch 69, Loss: 155.15464165039063\n",
      "Epoch 70, Loss: 155.08573553059895\n",
      "Epoch 71, Loss: 154.97110618489583\n",
      "Epoch 72, Loss: 154.91971896158853\n",
      "Epoch 73, Loss: 154.85571770833334\n",
      "Epoch 74, Loss: 154.75528025716144\n",
      "Epoch 75, Loss: 154.69155071614583\n",
      "Epoch 76, Loss: 154.61045385742187\n",
      "Epoch 77, Loss: 154.53013951822916\n",
      "Epoch 78, Loss: 154.48312301432293\n",
      "Epoch 79, Loss: 154.40173754882812\n",
      "Epoch 80, Loss: 154.35643165690104\n",
      "Epoch 81, Loss: 154.26875805664062\n",
      "Epoch 82, Loss: 154.2157499511719\n",
      "Epoch 83, Loss: 154.13075904947917\n",
      "Epoch 84, Loss: 154.0963134440104\n",
      "Epoch 85, Loss: 154.01060149739584\n",
      "Epoch 86, Loss: 153.96416162109375\n",
      "Epoch 87, Loss: 153.9318755045573\n",
      "Epoch 88, Loss: 153.82701069335937\n",
      "Epoch 89, Loss: 153.77190319010415\n",
      "Epoch 90, Loss: 153.7083562174479\n",
      "Epoch 91, Loss: 153.63961803385416\n",
      "Epoch 92, Loss: 153.590051171875\n",
      "Epoch 93, Loss: 153.54927392578125\n",
      "Epoch 94, Loss: 153.4845512858073\n",
      "Epoch 95, Loss: 153.4248499186198\n",
      "Epoch 96, Loss: 153.35413491210937\n",
      "Epoch 97, Loss: 153.33861590169272\n",
      "Epoch 98, Loss: 153.25702506510416\n",
      "Epoch 99, Loss: 153.21972259114582\n",
      "Epoch 100, Loss: 153.177668359375\n"
     ]
    },
    {
     "data": {
      "image/png": "[encoded data removed]",
      "text/plain": [
       "<Figure size 640x480 with 1 Axes>"
      ]
     },
     "metadata": {},
     "output_type": "display_data"
    }
   ],
   "source": [
    "num_epochs = 100\n",
    "loss_values = []\n",
    "\n",
    "for epoch in range(num_epochs):\n",
    "    vae.train()\n",
    "    train_loss = 0\n",
    "    for batch_idx, (data, _) in enumerate(train_loader):\n",
    "        data = data.to('cuda')\n",
    "        optimizer.zero_grad()\n",
    "        recon_batch, mu, logvar = vae(data)\n",
    "        loss = loss_function(recon_batch, data, mu, logvar)\n",
    "        loss.backward()\n",
    "        train_loss += loss.item()\n",
    "        optimizer.step()\n",
    "    \n",
    "    avg_loss = train_loss / len(train_dataset)\n",
    "    loss_values.append(avg_loss)\n",
    "    print(f'Epoch {epoch+1}, Loss: {avg_loss}')\n",
    "\n",
    "\n",
    "plt.plot(range(1, num_epochs + 1), loss_values)\n",
    "plt.xlabel('Epoch')\n",
    "plt.ylabel('Loss')\n",
    "plt.title('Training Loss')\n",
    "plt.grid()\n",
    "plt.show()\n"
   ]
  },
  {
   "cell_type": "code",
   "execution_count": 14,
   "metadata": {},
   "outputs": [
    {
     "data": {
      "image/png": "[encoded data removed]",
      "text/plain": [
       "<Figure size 1500x200 with 10 Axes>"
      ]
     },
     "metadata": {},
     "output_type": "display_data"
    }
   ],
   "source": [
    "def interpolate_latent_space(model, start, end, steps=15):\n",
    "    z_values = torch.stack([start * (1 - t) + end * t for t in np.linspace(0, 1, steps)])\n",
    "    with torch.no_grad():\n",
    "        interpolated_images = model.decode(z_values).view(-1, 1, 28, 28).cpu()\n",
    "    return interpolated_images\n",
    "\n",
    "point_a = torch.randn(2).to('cuda')\n",
    "point_b = torch.randn(2).to('cuda')\n",
    "interpolated_images = interpolate_latent_space(vae, point_a, point_b)\n",
    "\n",
    "fig, axes = plt.subplots(1, 10, figsize=(15, 2))\n",
    "for i, ax in enumerate(axes):\n",
    "    ax.imshow(interpolated_images[i].squeeze().numpy(), cmap='gray')\n",
    "    ax.axis('off')\n",
    "plt.show()\n"
   ]
  }
 ],
 "metadata": {
  "kernelspec": {
   "display_name": "v-env",
   "language": "python",
   "name": "python3"
  },
  "language_info": {
   "codemirror_mode": {
    "name": "ipython",
    "version": 3
   },
   "file_extension": ".py",
   "mimetype": "text/x-python",
   "name": "python",
   "nbconvert_exporter": "python",
   "pygments_lexer": "ipython3",
   "version": "3.12.4"
  }
 },
 "nbformat": 4,
 "nbformat_minor": 2
}
